{
 "cells": [
  {
   "cell_type": "code",
   "execution_count": 1,
   "id": "69237459",
   "metadata": {},
   "outputs": [],
   "source": [
    "import requests\n",
    "from bs4 import BeautifulSoup\n",
    "import re\n",
    "import mysql.connector"
   ]
  },
  {
   "cell_type": "code",
   "execution_count": 2,
   "id": "8e5d8ffb",
   "metadata": {},
   "outputs": [],
   "source": [
    "db = mysql.connector.connect(user = 'root', passwd = '13808472aA@#', host = '127.0.0.1', database = 'CITIES')\n",
    "cursor = db.cursor()\n",
    "cursor.execute('SELECT * FROM CITY_')\n",
    "cities = cursor.fetchall()\n",
    "cities = list(map(lambda x:x[0], cities))"
   ]
  },
  {
   "cell_type": "code",
   "execution_count": 3,
   "id": "aa85a584",
   "metadata": {},
   "outputs": [],
   "source": [
    "def link_miner(city):\n",
    "    response = requests.get('https://divar.ir/s/%s/auto' % city)\n",
    "    soup = BeautifulSoup(response.text, \"html.parser\")\n",
    "    links = [link.get('href') for link in soup.find_all('a')][19:-1]\n",
    "    return links"
   ]
  },
  {
   "cell_type": "code",
   "execution_count": 4,
   "id": "0ab586e5",
   "metadata": {},
   "outputs": [],
   "source": [
    "\n",
    "def data_miner(sublink):\n",
    "    response = requests.get(f'https://divar.ir{sublink}')\n",
    "    soup = BeautifulSoup(response.text, \"html.parser\")\n",
    "    try:\n",
    "        name = soup.find_all(\n",
    "            \"h1\", class_=\"kt-page-title__title kt-page-title__title--responsive-sized\")[0].text\n",
    "        name = re.findall('(.*)،', name)[0]\n",
    "        milage = int(soup.find_all(\n",
    "            \"span\", class_=\"kt-group-row-item__value\")[0].text.replace('٬', ''))\n",
    "        try:\n",
    "            model = int(soup.find_all(\n",
    "                \"span\", class_=\"kt-group-row-item__value\")[1].text)\n",
    "        except ValueError:\n",
    "            model = soup.find_all(\n",
    "                \"span\", class_=\"kt-group-row-item__value\")[1].text\n",
    "        engine_status = soup.find_all(\n",
    "            \"p\", class_=\"kt-unexpandable-row__value\")[0].text\n",
    "        chassis_status = soup.find_all(\n",
    "            \"p\", class_=\"kt-unexpandable-row__value\")[1].text\n",
    "        body_status = soup.find_all(\n",
    "            \"p\", class_=\"kt-unexpandable-row__value\")[2].text\n",
    "        insurance = soup.find_all(\n",
    "            \"p\", class_=\"kt-unexpandable-row__value\")[3].text\n",
    "        gearbox = soup.find_all(\n",
    "            \"p\", class_=\"kt-unexpandable-row__value\")[4].text\n",
    "        try:\n",
    "            price = int(soup.find_all(\n",
    "                \"p\", class_=\"kt-unexpandable-row__value\")[6].text.replace('٬', '')[:-6])\n",
    "        except ValueError:\n",
    "            price = soup.find_all(\n",
    "                \"p\", class_=\"kt-unexpandable-row__value\")[6].text\n",
    "        return name, milage, model, engine_status, chassis_status, body_status, insurance, gearbox, price\n",
    "    except IndexError:\n",
    "        return None"
   ]
  },
  {
   "cell_type": "code",
   "execution_count": 8,
   "id": "66926396",
   "metadata": {},
   "outputs": [
    {
     "name": "stdout",
     "output_type": "stream",
     "text": [
      "Tehran\n",
      "The information of Tehran city is successfully mined.\n",
      "Mashhad\n"
     ]
    },
    {
     "ename": "KeyboardInterrupt",
     "evalue": "",
     "output_type": "error",
     "traceback": [
      "\u001b[1;31m---------------------------------------------------------------------------\u001b[0m",
      "\u001b[1;31mKeyboardInterrupt\u001b[0m                         Traceback (most recent call last)",
      "Input \u001b[1;32mIn [8]\u001b[0m, in \u001b[0;36m<cell line: 2>\u001b[1;34m()\u001b[0m\n\u001b[0;32m      4\u001b[0m \u001b[38;5;28;01mfor\u001b[39;00m sublink \u001b[38;5;129;01min\u001b[39;00m link_miner(city):\n\u001b[0;32m      5\u001b[0m     \u001b[38;5;28;01mif\u001b[39;00m data_miner(sublink) \u001b[38;5;241m!=\u001b[39m \u001b[38;5;28;01mNone\u001b[39;00m:\n\u001b[1;32m----> 6\u001b[0m         data\u001b[38;5;241m.\u001b[39mappend(\u001b[43mdata_miner\u001b[49m\u001b[43m(\u001b[49m\u001b[43msublink\u001b[49m\u001b[43m)\u001b[49m)\n\u001b[0;32m      7\u001b[0m \u001b[38;5;28mprint\u001b[39m(\u001b[38;5;124mf\u001b[39m\u001b[38;5;124m'\u001b[39m\u001b[38;5;124mThe information of \u001b[39m\u001b[38;5;132;01m{\u001b[39;00mcity\u001b[38;5;241m.\u001b[39mtitle()\u001b[38;5;132;01m}\u001b[39;00m\u001b[38;5;124m city is successfully mined.\u001b[39m\u001b[38;5;124m'\u001b[39m)\n",
      "Input \u001b[1;32mIn [4]\u001b[0m, in \u001b[0;36mdata_miner\u001b[1;34m(sublink)\u001b[0m\n\u001b[0;32m      1\u001b[0m \u001b[38;5;28;01mdef\u001b[39;00m \u001b[38;5;21mdata_miner\u001b[39m(sublink):\n\u001b[1;32m----> 2\u001b[0m     response \u001b[38;5;241m=\u001b[39m \u001b[43mrequests\u001b[49m\u001b[38;5;241;43m.\u001b[39;49m\u001b[43mget\u001b[49m\u001b[43m(\u001b[49m\u001b[38;5;124;43mf\u001b[39;49m\u001b[38;5;124;43m'\u001b[39;49m\u001b[38;5;124;43mhttps://divar.ir\u001b[39;49m\u001b[38;5;132;43;01m{\u001b[39;49;00m\u001b[43msublink\u001b[49m\u001b[38;5;132;43;01m}\u001b[39;49;00m\u001b[38;5;124;43m'\u001b[39;49m\u001b[43m)\u001b[49m\n\u001b[0;32m      3\u001b[0m     soup \u001b[38;5;241m=\u001b[39m BeautifulSoup(response\u001b[38;5;241m.\u001b[39mtext, \u001b[38;5;124m\"\u001b[39m\u001b[38;5;124mhtml.parser\u001b[39m\u001b[38;5;124m\"\u001b[39m)\n\u001b[0;32m      4\u001b[0m     \u001b[38;5;28;01mtry\u001b[39;00m:\n",
      "File \u001b[1;32m~\\AppData\\Local\\Programs\\Python\\Python310\\lib\\site-packages\\requests\\api.py:75\u001b[0m, in \u001b[0;36mget\u001b[1;34m(url, params, **kwargs)\u001b[0m\n\u001b[0;32m     64\u001b[0m \u001b[38;5;28;01mdef\u001b[39;00m \u001b[38;5;21mget\u001b[39m(url, params\u001b[38;5;241m=\u001b[39m\u001b[38;5;28;01mNone\u001b[39;00m, \u001b[38;5;241m*\u001b[39m\u001b[38;5;241m*\u001b[39mkwargs):\n\u001b[0;32m     65\u001b[0m     \u001b[38;5;124mr\u001b[39m\u001b[38;5;124;03m\"\"\"Sends a GET request.\u001b[39;00m\n\u001b[0;32m     66\u001b[0m \n\u001b[0;32m     67\u001b[0m \u001b[38;5;124;03m    :param url: URL for the new :class:`Request` object.\u001b[39;00m\n\u001b[1;32m   (...)\u001b[0m\n\u001b[0;32m     72\u001b[0m \u001b[38;5;124;03m    :rtype: requests.Response\u001b[39;00m\n\u001b[0;32m     73\u001b[0m \u001b[38;5;124;03m    \"\"\"\u001b[39;00m\n\u001b[1;32m---> 75\u001b[0m     \u001b[38;5;28;01mreturn\u001b[39;00m request(\u001b[38;5;124m'\u001b[39m\u001b[38;5;124mget\u001b[39m\u001b[38;5;124m'\u001b[39m, url, params\u001b[38;5;241m=\u001b[39mparams, \u001b[38;5;241m*\u001b[39m\u001b[38;5;241m*\u001b[39mkwargs)\n",
      "File \u001b[1;32m~\\AppData\\Local\\Programs\\Python\\Python310\\lib\\site-packages\\requests\\api.py:61\u001b[0m, in \u001b[0;36mrequest\u001b[1;34m(method, url, **kwargs)\u001b[0m\n\u001b[0;32m     57\u001b[0m \u001b[38;5;66;03m# By using the 'with' statement we are sure the session is closed, thus we\u001b[39;00m\n\u001b[0;32m     58\u001b[0m \u001b[38;5;66;03m# avoid leaving sockets open which can trigger a ResourceWarning in some\u001b[39;00m\n\u001b[0;32m     59\u001b[0m \u001b[38;5;66;03m# cases, and look like a memory leak in others.\u001b[39;00m\n\u001b[0;32m     60\u001b[0m \u001b[38;5;28;01mwith\u001b[39;00m sessions\u001b[38;5;241m.\u001b[39mSession() \u001b[38;5;28;01mas\u001b[39;00m session:\n\u001b[1;32m---> 61\u001b[0m     \u001b[38;5;28;01mreturn\u001b[39;00m session\u001b[38;5;241m.\u001b[39mrequest(method\u001b[38;5;241m=\u001b[39mmethod, url\u001b[38;5;241m=\u001b[39murl, \u001b[38;5;241m*\u001b[39m\u001b[38;5;241m*\u001b[39mkwargs)\n",
      "File \u001b[1;32m~\\AppData\\Local\\Programs\\Python\\Python310\\lib\\site-packages\\requests\\sessions.py:529\u001b[0m, in \u001b[0;36mSession.request\u001b[1;34m(self, method, url, params, data, headers, cookies, files, auth, timeout, allow_redirects, proxies, hooks, stream, verify, cert, json)\u001b[0m\n\u001b[0;32m    524\u001b[0m send_kwargs \u001b[38;5;241m=\u001b[39m {\n\u001b[0;32m    525\u001b[0m     \u001b[38;5;124m'\u001b[39m\u001b[38;5;124mtimeout\u001b[39m\u001b[38;5;124m'\u001b[39m: timeout,\n\u001b[0;32m    526\u001b[0m     \u001b[38;5;124m'\u001b[39m\u001b[38;5;124mallow_redirects\u001b[39m\u001b[38;5;124m'\u001b[39m: allow_redirects,\n\u001b[0;32m    527\u001b[0m }\n\u001b[0;32m    528\u001b[0m send_kwargs\u001b[38;5;241m.\u001b[39mupdate(settings)\n\u001b[1;32m--> 529\u001b[0m resp \u001b[38;5;241m=\u001b[39m \u001b[38;5;28mself\u001b[39m\u001b[38;5;241m.\u001b[39msend(prep, \u001b[38;5;241m*\u001b[39m\u001b[38;5;241m*\u001b[39msend_kwargs)\n\u001b[0;32m    531\u001b[0m \u001b[38;5;28;01mreturn\u001b[39;00m resp\n",
      "File \u001b[1;32m~\\AppData\\Local\\Programs\\Python\\Python310\\lib\\site-packages\\requests\\sessions.py:645\u001b[0m, in \u001b[0;36mSession.send\u001b[1;34m(self, request, **kwargs)\u001b[0m\n\u001b[0;32m    642\u001b[0m start \u001b[38;5;241m=\u001b[39m preferred_clock()\n\u001b[0;32m    644\u001b[0m \u001b[38;5;66;03m# Send the request\u001b[39;00m\n\u001b[1;32m--> 645\u001b[0m r \u001b[38;5;241m=\u001b[39m adapter\u001b[38;5;241m.\u001b[39msend(request, \u001b[38;5;241m*\u001b[39m\u001b[38;5;241m*\u001b[39mkwargs)\n\u001b[0;32m    647\u001b[0m \u001b[38;5;66;03m# Total elapsed time of the request (approximately)\u001b[39;00m\n\u001b[0;32m    648\u001b[0m elapsed \u001b[38;5;241m=\u001b[39m preferred_clock() \u001b[38;5;241m-\u001b[39m start\n",
      "File \u001b[1;32m~\\AppData\\Local\\Programs\\Python\\Python310\\lib\\site-packages\\requests\\adapters.py:440\u001b[0m, in \u001b[0;36mHTTPAdapter.send\u001b[1;34m(self, request, stream, timeout, verify, cert, proxies)\u001b[0m\n\u001b[0;32m    438\u001b[0m \u001b[38;5;28;01mtry\u001b[39;00m:\n\u001b[0;32m    439\u001b[0m     \u001b[38;5;28;01mif\u001b[39;00m \u001b[38;5;129;01mnot\u001b[39;00m chunked:\n\u001b[1;32m--> 440\u001b[0m         resp \u001b[38;5;241m=\u001b[39m \u001b[43mconn\u001b[49m\u001b[38;5;241;43m.\u001b[39;49m\u001b[43murlopen\u001b[49m\u001b[43m(\u001b[49m\n\u001b[0;32m    441\u001b[0m \u001b[43m            \u001b[49m\u001b[43mmethod\u001b[49m\u001b[38;5;241;43m=\u001b[39;49m\u001b[43mrequest\u001b[49m\u001b[38;5;241;43m.\u001b[39;49m\u001b[43mmethod\u001b[49m\u001b[43m,\u001b[49m\n\u001b[0;32m    442\u001b[0m \u001b[43m            \u001b[49m\u001b[43murl\u001b[49m\u001b[38;5;241;43m=\u001b[39;49m\u001b[43murl\u001b[49m\u001b[43m,\u001b[49m\n\u001b[0;32m    443\u001b[0m \u001b[43m            \u001b[49m\u001b[43mbody\u001b[49m\u001b[38;5;241;43m=\u001b[39;49m\u001b[43mrequest\u001b[49m\u001b[38;5;241;43m.\u001b[39;49m\u001b[43mbody\u001b[49m\u001b[43m,\u001b[49m\n\u001b[0;32m    444\u001b[0m \u001b[43m            \u001b[49m\u001b[43mheaders\u001b[49m\u001b[38;5;241;43m=\u001b[39;49m\u001b[43mrequest\u001b[49m\u001b[38;5;241;43m.\u001b[39;49m\u001b[43mheaders\u001b[49m\u001b[43m,\u001b[49m\n\u001b[0;32m    445\u001b[0m \u001b[43m            \u001b[49m\u001b[43mredirect\u001b[49m\u001b[38;5;241;43m=\u001b[39;49m\u001b[38;5;28;43;01mFalse\u001b[39;49;00m\u001b[43m,\u001b[49m\n\u001b[0;32m    446\u001b[0m \u001b[43m            \u001b[49m\u001b[43massert_same_host\u001b[49m\u001b[38;5;241;43m=\u001b[39;49m\u001b[38;5;28;43;01mFalse\u001b[39;49;00m\u001b[43m,\u001b[49m\n\u001b[0;32m    447\u001b[0m \u001b[43m            \u001b[49m\u001b[43mpreload_content\u001b[49m\u001b[38;5;241;43m=\u001b[39;49m\u001b[38;5;28;43;01mFalse\u001b[39;49;00m\u001b[43m,\u001b[49m\n\u001b[0;32m    448\u001b[0m \u001b[43m            \u001b[49m\u001b[43mdecode_content\u001b[49m\u001b[38;5;241;43m=\u001b[39;49m\u001b[38;5;28;43;01mFalse\u001b[39;49;00m\u001b[43m,\u001b[49m\n\u001b[0;32m    449\u001b[0m \u001b[43m            \u001b[49m\u001b[43mretries\u001b[49m\u001b[38;5;241;43m=\u001b[39;49m\u001b[38;5;28;43mself\u001b[39;49m\u001b[38;5;241;43m.\u001b[39;49m\u001b[43mmax_retries\u001b[49m\u001b[43m,\u001b[49m\n\u001b[0;32m    450\u001b[0m \u001b[43m            \u001b[49m\u001b[43mtimeout\u001b[49m\u001b[38;5;241;43m=\u001b[39;49m\u001b[43mtimeout\u001b[49m\n\u001b[0;32m    451\u001b[0m \u001b[43m        \u001b[49m\u001b[43m)\u001b[49m\n\u001b[0;32m    453\u001b[0m     \u001b[38;5;66;03m# Send the request.\u001b[39;00m\n\u001b[0;32m    454\u001b[0m     \u001b[38;5;28;01melse\u001b[39;00m:\n\u001b[0;32m    455\u001b[0m         \u001b[38;5;28;01mif\u001b[39;00m \u001b[38;5;28mhasattr\u001b[39m(conn, \u001b[38;5;124m'\u001b[39m\u001b[38;5;124mproxy_pool\u001b[39m\u001b[38;5;124m'\u001b[39m):\n",
      "File \u001b[1;32m~\\AppData\\Local\\Programs\\Python\\Python310\\lib\\site-packages\\urllib3\\connectionpool.py:703\u001b[0m, in \u001b[0;36mHTTPConnectionPool.urlopen\u001b[1;34m(self, method, url, body, headers, retries, redirect, assert_same_host, timeout, pool_timeout, release_conn, chunked, body_pos, **response_kw)\u001b[0m\n\u001b[0;32m    700\u001b[0m     \u001b[38;5;28mself\u001b[39m\u001b[38;5;241m.\u001b[39m_prepare_proxy(conn)\n\u001b[0;32m    702\u001b[0m \u001b[38;5;66;03m# Make the request on the httplib connection object.\u001b[39;00m\n\u001b[1;32m--> 703\u001b[0m httplib_response \u001b[38;5;241m=\u001b[39m \u001b[38;5;28;43mself\u001b[39;49m\u001b[38;5;241;43m.\u001b[39;49m\u001b[43m_make_request\u001b[49m\u001b[43m(\u001b[49m\n\u001b[0;32m    704\u001b[0m \u001b[43m    \u001b[49m\u001b[43mconn\u001b[49m\u001b[43m,\u001b[49m\n\u001b[0;32m    705\u001b[0m \u001b[43m    \u001b[49m\u001b[43mmethod\u001b[49m\u001b[43m,\u001b[49m\n\u001b[0;32m    706\u001b[0m \u001b[43m    \u001b[49m\u001b[43murl\u001b[49m\u001b[43m,\u001b[49m\n\u001b[0;32m    707\u001b[0m \u001b[43m    \u001b[49m\u001b[43mtimeout\u001b[49m\u001b[38;5;241;43m=\u001b[39;49m\u001b[43mtimeout_obj\u001b[49m\u001b[43m,\u001b[49m\n\u001b[0;32m    708\u001b[0m \u001b[43m    \u001b[49m\u001b[43mbody\u001b[49m\u001b[38;5;241;43m=\u001b[39;49m\u001b[43mbody\u001b[49m\u001b[43m,\u001b[49m\n\u001b[0;32m    709\u001b[0m \u001b[43m    \u001b[49m\u001b[43mheaders\u001b[49m\u001b[38;5;241;43m=\u001b[39;49m\u001b[43mheaders\u001b[49m\u001b[43m,\u001b[49m\n\u001b[0;32m    710\u001b[0m \u001b[43m    \u001b[49m\u001b[43mchunked\u001b[49m\u001b[38;5;241;43m=\u001b[39;49m\u001b[43mchunked\u001b[49m\u001b[43m,\u001b[49m\n\u001b[0;32m    711\u001b[0m \u001b[43m\u001b[49m\u001b[43m)\u001b[49m\n\u001b[0;32m    713\u001b[0m \u001b[38;5;66;03m# If we're going to release the connection in ``finally:``, then\u001b[39;00m\n\u001b[0;32m    714\u001b[0m \u001b[38;5;66;03m# the response doesn't need to know about the connection. Otherwise\u001b[39;00m\n\u001b[0;32m    715\u001b[0m \u001b[38;5;66;03m# it will also try to release it and we'll have a double-release\u001b[39;00m\n\u001b[0;32m    716\u001b[0m \u001b[38;5;66;03m# mess.\u001b[39;00m\n\u001b[0;32m    717\u001b[0m response_conn \u001b[38;5;241m=\u001b[39m conn \u001b[38;5;28;01mif\u001b[39;00m \u001b[38;5;129;01mnot\u001b[39;00m release_conn \u001b[38;5;28;01melse\u001b[39;00m \u001b[38;5;28;01mNone\u001b[39;00m\n",
      "File \u001b[1;32m~\\AppData\\Local\\Programs\\Python\\Python310\\lib\\site-packages\\urllib3\\connectionpool.py:449\u001b[0m, in \u001b[0;36mHTTPConnectionPool._make_request\u001b[1;34m(self, conn, method, url, timeout, chunked, **httplib_request_kw)\u001b[0m\n\u001b[0;32m    444\u001b[0m             httplib_response \u001b[38;5;241m=\u001b[39m conn\u001b[38;5;241m.\u001b[39mgetresponse()\n\u001b[0;32m    445\u001b[0m         \u001b[38;5;28;01mexcept\u001b[39;00m \u001b[38;5;167;01mBaseException\u001b[39;00m \u001b[38;5;28;01mas\u001b[39;00m e:\n\u001b[0;32m    446\u001b[0m             \u001b[38;5;66;03m# Remove the TypeError from the exception chain in\u001b[39;00m\n\u001b[0;32m    447\u001b[0m             \u001b[38;5;66;03m# Python 3 (including for exceptions like SystemExit).\u001b[39;00m\n\u001b[0;32m    448\u001b[0m             \u001b[38;5;66;03m# Otherwise it looks like a bug in the code.\u001b[39;00m\n\u001b[1;32m--> 449\u001b[0m             \u001b[43msix\u001b[49m\u001b[38;5;241;43m.\u001b[39;49m\u001b[43mraise_from\u001b[49m\u001b[43m(\u001b[49m\u001b[43me\u001b[49m\u001b[43m,\u001b[49m\u001b[43m \u001b[49m\u001b[38;5;28;43;01mNone\u001b[39;49;00m\u001b[43m)\u001b[49m\n\u001b[0;32m    450\u001b[0m \u001b[38;5;28;01mexcept\u001b[39;00m (SocketTimeout, BaseSSLError, SocketError) \u001b[38;5;28;01mas\u001b[39;00m e:\n\u001b[0;32m    451\u001b[0m     \u001b[38;5;28mself\u001b[39m\u001b[38;5;241m.\u001b[39m_raise_timeout(err\u001b[38;5;241m=\u001b[39me, url\u001b[38;5;241m=\u001b[39murl, timeout_value\u001b[38;5;241m=\u001b[39mread_timeout)\n",
      "File \u001b[1;32m<string>:3\u001b[0m, in \u001b[0;36mraise_from\u001b[1;34m(value, from_value)\u001b[0m\n",
      "File \u001b[1;32m~\\AppData\\Local\\Programs\\Python\\Python310\\lib\\site-packages\\urllib3\\connectionpool.py:444\u001b[0m, in \u001b[0;36mHTTPConnectionPool._make_request\u001b[1;34m(self, conn, method, url, timeout, chunked, **httplib_request_kw)\u001b[0m\n\u001b[0;32m    441\u001b[0m \u001b[38;5;28;01mexcept\u001b[39;00m \u001b[38;5;167;01mTypeError\u001b[39;00m:\n\u001b[0;32m    442\u001b[0m     \u001b[38;5;66;03m# Python 3\u001b[39;00m\n\u001b[0;32m    443\u001b[0m     \u001b[38;5;28;01mtry\u001b[39;00m:\n\u001b[1;32m--> 444\u001b[0m         httplib_response \u001b[38;5;241m=\u001b[39m \u001b[43mconn\u001b[49m\u001b[38;5;241;43m.\u001b[39;49m\u001b[43mgetresponse\u001b[49m\u001b[43m(\u001b[49m\u001b[43m)\u001b[49m\n\u001b[0;32m    445\u001b[0m     \u001b[38;5;28;01mexcept\u001b[39;00m \u001b[38;5;167;01mBaseException\u001b[39;00m \u001b[38;5;28;01mas\u001b[39;00m e:\n\u001b[0;32m    446\u001b[0m         \u001b[38;5;66;03m# Remove the TypeError from the exception chain in\u001b[39;00m\n\u001b[0;32m    447\u001b[0m         \u001b[38;5;66;03m# Python 3 (including for exceptions like SystemExit).\u001b[39;00m\n\u001b[0;32m    448\u001b[0m         \u001b[38;5;66;03m# Otherwise it looks like a bug in the code.\u001b[39;00m\n\u001b[0;32m    449\u001b[0m         six\u001b[38;5;241m.\u001b[39mraise_from(e, \u001b[38;5;28;01mNone\u001b[39;00m)\n",
      "File \u001b[1;32m~\\AppData\\Local\\Programs\\Python\\Python310\\lib\\http\\client.py:1374\u001b[0m, in \u001b[0;36mHTTPConnection.getresponse\u001b[1;34m(self)\u001b[0m\n\u001b[0;32m   1372\u001b[0m \u001b[38;5;28;01mtry\u001b[39;00m:\n\u001b[0;32m   1373\u001b[0m     \u001b[38;5;28;01mtry\u001b[39;00m:\n\u001b[1;32m-> 1374\u001b[0m         \u001b[43mresponse\u001b[49m\u001b[38;5;241;43m.\u001b[39;49m\u001b[43mbegin\u001b[49m\u001b[43m(\u001b[49m\u001b[43m)\u001b[49m\n\u001b[0;32m   1375\u001b[0m     \u001b[38;5;28;01mexcept\u001b[39;00m \u001b[38;5;167;01mConnectionError\u001b[39;00m:\n\u001b[0;32m   1376\u001b[0m         \u001b[38;5;28mself\u001b[39m\u001b[38;5;241m.\u001b[39mclose()\n",
      "File \u001b[1;32m~\\AppData\\Local\\Programs\\Python\\Python310\\lib\\http\\client.py:318\u001b[0m, in \u001b[0;36mHTTPResponse.begin\u001b[1;34m(self)\u001b[0m\n\u001b[0;32m    316\u001b[0m \u001b[38;5;66;03m# read until we get a non-100 response\u001b[39;00m\n\u001b[0;32m    317\u001b[0m \u001b[38;5;28;01mwhile\u001b[39;00m \u001b[38;5;28;01mTrue\u001b[39;00m:\n\u001b[1;32m--> 318\u001b[0m     version, status, reason \u001b[38;5;241m=\u001b[39m \u001b[38;5;28;43mself\u001b[39;49m\u001b[38;5;241;43m.\u001b[39;49m\u001b[43m_read_status\u001b[49m\u001b[43m(\u001b[49m\u001b[43m)\u001b[49m\n\u001b[0;32m    319\u001b[0m     \u001b[38;5;28;01mif\u001b[39;00m status \u001b[38;5;241m!=\u001b[39m CONTINUE:\n\u001b[0;32m    320\u001b[0m         \u001b[38;5;28;01mbreak\u001b[39;00m\n",
      "File \u001b[1;32m~\\AppData\\Local\\Programs\\Python\\Python310\\lib\\http\\client.py:279\u001b[0m, in \u001b[0;36mHTTPResponse._read_status\u001b[1;34m(self)\u001b[0m\n\u001b[0;32m    278\u001b[0m \u001b[38;5;28;01mdef\u001b[39;00m \u001b[38;5;21m_read_status\u001b[39m(\u001b[38;5;28mself\u001b[39m):\n\u001b[1;32m--> 279\u001b[0m     line \u001b[38;5;241m=\u001b[39m \u001b[38;5;28mstr\u001b[39m(\u001b[38;5;28;43mself\u001b[39;49m\u001b[38;5;241;43m.\u001b[39;49m\u001b[43mfp\u001b[49m\u001b[38;5;241;43m.\u001b[39;49m\u001b[43mreadline\u001b[49m\u001b[43m(\u001b[49m\u001b[43m_MAXLINE\u001b[49m\u001b[43m \u001b[49m\u001b[38;5;241;43m+\u001b[39;49m\u001b[43m \u001b[49m\u001b[38;5;241;43m1\u001b[39;49m\u001b[43m)\u001b[49m, \u001b[38;5;124m\"\u001b[39m\u001b[38;5;124miso-8859-1\u001b[39m\u001b[38;5;124m\"\u001b[39m)\n\u001b[0;32m    280\u001b[0m     \u001b[38;5;28;01mif\u001b[39;00m \u001b[38;5;28mlen\u001b[39m(line) \u001b[38;5;241m>\u001b[39m _MAXLINE:\n\u001b[0;32m    281\u001b[0m         \u001b[38;5;28;01mraise\u001b[39;00m LineTooLong(\u001b[38;5;124m\"\u001b[39m\u001b[38;5;124mstatus line\u001b[39m\u001b[38;5;124m\"\u001b[39m)\n",
      "File \u001b[1;32m~\\AppData\\Local\\Programs\\Python\\Python310\\lib\\socket.py:705\u001b[0m, in \u001b[0;36mSocketIO.readinto\u001b[1;34m(self, b)\u001b[0m\n\u001b[0;32m    703\u001b[0m \u001b[38;5;28;01mwhile\u001b[39;00m \u001b[38;5;28;01mTrue\u001b[39;00m:\n\u001b[0;32m    704\u001b[0m     \u001b[38;5;28;01mtry\u001b[39;00m:\n\u001b[1;32m--> 705\u001b[0m         \u001b[38;5;28;01mreturn\u001b[39;00m \u001b[38;5;28;43mself\u001b[39;49m\u001b[38;5;241;43m.\u001b[39;49m\u001b[43m_sock\u001b[49m\u001b[38;5;241;43m.\u001b[39;49m\u001b[43mrecv_into\u001b[49m\u001b[43m(\u001b[49m\u001b[43mb\u001b[49m\u001b[43m)\u001b[49m\n\u001b[0;32m    706\u001b[0m     \u001b[38;5;28;01mexcept\u001b[39;00m timeout:\n\u001b[0;32m    707\u001b[0m         \u001b[38;5;28mself\u001b[39m\u001b[38;5;241m.\u001b[39m_timeout_occurred \u001b[38;5;241m=\u001b[39m \u001b[38;5;28;01mTrue\u001b[39;00m\n",
      "File \u001b[1;32m~\\AppData\\Local\\Programs\\Python\\Python310\\lib\\ssl.py:1273\u001b[0m, in \u001b[0;36mSSLSocket.recv_into\u001b[1;34m(self, buffer, nbytes, flags)\u001b[0m\n\u001b[0;32m   1269\u001b[0m     \u001b[38;5;28;01mif\u001b[39;00m flags \u001b[38;5;241m!=\u001b[39m \u001b[38;5;241m0\u001b[39m:\n\u001b[0;32m   1270\u001b[0m         \u001b[38;5;28;01mraise\u001b[39;00m \u001b[38;5;167;01mValueError\u001b[39;00m(\n\u001b[0;32m   1271\u001b[0m           \u001b[38;5;124m\"\u001b[39m\u001b[38;5;124mnon-zero flags not allowed in calls to recv_into() on \u001b[39m\u001b[38;5;132;01m%s\u001b[39;00m\u001b[38;5;124m\"\u001b[39m \u001b[38;5;241m%\u001b[39m\n\u001b[0;32m   1272\u001b[0m           \u001b[38;5;28mself\u001b[39m\u001b[38;5;241m.\u001b[39m\u001b[38;5;18m__class__\u001b[39m)\n\u001b[1;32m-> 1273\u001b[0m     \u001b[38;5;28;01mreturn\u001b[39;00m \u001b[38;5;28;43mself\u001b[39;49m\u001b[38;5;241;43m.\u001b[39;49m\u001b[43mread\u001b[49m\u001b[43m(\u001b[49m\u001b[43mnbytes\u001b[49m\u001b[43m,\u001b[49m\u001b[43m \u001b[49m\u001b[43mbuffer\u001b[49m\u001b[43m)\u001b[49m\n\u001b[0;32m   1274\u001b[0m \u001b[38;5;28;01melse\u001b[39;00m:\n\u001b[0;32m   1275\u001b[0m     \u001b[38;5;28;01mreturn\u001b[39;00m \u001b[38;5;28msuper\u001b[39m()\u001b[38;5;241m.\u001b[39mrecv_into(buffer, nbytes, flags)\n",
      "File \u001b[1;32m~\\AppData\\Local\\Programs\\Python\\Python310\\lib\\ssl.py:1129\u001b[0m, in \u001b[0;36mSSLSocket.read\u001b[1;34m(self, len, buffer)\u001b[0m\n\u001b[0;32m   1127\u001b[0m \u001b[38;5;28;01mtry\u001b[39;00m:\n\u001b[0;32m   1128\u001b[0m     \u001b[38;5;28;01mif\u001b[39;00m buffer \u001b[38;5;129;01mis\u001b[39;00m \u001b[38;5;129;01mnot\u001b[39;00m \u001b[38;5;28;01mNone\u001b[39;00m:\n\u001b[1;32m-> 1129\u001b[0m         \u001b[38;5;28;01mreturn\u001b[39;00m \u001b[38;5;28;43mself\u001b[39;49m\u001b[38;5;241;43m.\u001b[39;49m\u001b[43m_sslobj\u001b[49m\u001b[38;5;241;43m.\u001b[39;49m\u001b[43mread\u001b[49m\u001b[43m(\u001b[49m\u001b[38;5;28;43mlen\u001b[39;49m\u001b[43m,\u001b[49m\u001b[43m \u001b[49m\u001b[43mbuffer\u001b[49m\u001b[43m)\u001b[49m\n\u001b[0;32m   1130\u001b[0m     \u001b[38;5;28;01melse\u001b[39;00m:\n\u001b[0;32m   1131\u001b[0m         \u001b[38;5;28;01mreturn\u001b[39;00m \u001b[38;5;28mself\u001b[39m\u001b[38;5;241m.\u001b[39m_sslobj\u001b[38;5;241m.\u001b[39mread(\u001b[38;5;28mlen\u001b[39m)\n",
      "\u001b[1;31mKeyboardInterrupt\u001b[0m: "
     ]
    }
   ],
   "source": [
    "data = []\n",
    "for city in cities:\n",
    "    print(city.title())\n",
    "    for sublink in link_miner(city):\n",
    "        if data_miner(sublink) != None:\n",
    "            data.append(data_miner(sublink))\n",
    "    print(f'The information of {city.title()} city is successfully mined.')\n"
   ]
  },
  {
   "cell_type": "code",
   "execution_count": 9,
   "id": "c21d6fbf",
   "metadata": {},
   "outputs": [],
   "source": [
    "cursor.execute('CREATE DATABASE IF NOT EXISTS INFORMATION')\n",
    "cursor.execute('USE INFORMATION')\n",
    "cursor.execute('CREATE TABLE IF NOT EXISTS CAR(name VARCHAR(255), milage VARCHAR(255), model VARCHAR(255), engine_status VARCHAR(255), chassis_status VARCHAR(255), body_status VARCHAR(255), insurance VARCHAR(255), gearbos VARCHAR(255), price VARCHAR(255))')\n",
    "for i in set(data):\n",
    "    cursor.execute(f'INSERT INTO CAR VALUES({repr(i[0])}, {repr(i[1])}, {repr(i[2])}, {repr(i[3])}, {repr(i[4])}, {repr(i[5])}, {repr(i[6])}, {repr(i[7])}, {repr(i[8])})')\n",
    "\n",
    "    db.commit()"
   ]
  },
  {
   "cell_type": "code",
   "execution_count": 10,
   "id": "c0b6ab2a",
   "metadata": {},
   "outputs": [
    {
     "name": "stdout",
     "output_type": "stream",
     "text": [
      "('هن تنگ X5 مونتاژ', '263', '1399', 'سالم', 'سالم و پلمپ', 'سالم و بیu200cخط و خش', '۶ ماه', 'اتوماتیک', '770000000')\n",
      "('رنو 5', '300000', '1990', 'سالم', 'سالم و پلمپ', 'تمامu200cرنگ', '۱۰ ماه', 'دندهu200cای', '30000000')\n",
      "('رنو ساندرو استپu200cوی اتوماتیک', '2000', '1397', 'سالم', 'سالم و پلمپ', 'سالم و بیu200cخط و خش', '۴ ماه', 'اتوماتیک', '645000000')\n",
      "('پراید 132 SE', '120000', '1397', 'سالم', 'سالم و پلمپ', 'رنگu200cشدگی در ۱ ناحیه', '۶ ماه', 'دندهu200cای', '145000000')\n",
      "('سمند LX ساده', '27000', '1398', 'سالم', 'سالم و پلمپ', 'سالم و بیu200cخط و خش', '۶ ماه', 'دندهu200cای', '265000000')\n",
      "('پژو پارس ساده', '400000', '1386', 'سالم', 'ضربهu200cخورده', 'رنگu200cشدگی در ۳ ناحیه', '۱ ماه', 'دندهu200cای', '124000000')\n",
      "('پژو پارس ساده', '200000', '1393', 'سالم', 'سالم و پلمپ', 'سالم و بیu200cخط و خش', '۶ ماه', 'دندهu200cای', '210000000')\n",
      "('پراید 131 SE', '120000', '1396', 'سالم', 'سالم و پلمپ', 'خط و خش جزیی', '۹ ماه', 'دندهu200cای', '146000000')\n",
      "('سمند سورن معمولی', '185000', '1392', 'سالم', 'سالم و پلمپ', 'خط و خش جزیی', '۳ ماه', 'دندهu200cای', '195000000')\n",
      "('سمند LX ساده', '40000', '1385', 'سالم', 'سالم و پلمپ', 'سالم و بیu200cخط و خش', '۶ ماه', 'دندهu200cای', 'غیرقابل نمایش')\n",
      "('رنو ساندرو اتوماتیک', '115000', '1396', 'سالم', 'سالم و پلمپ', 'سالم و بیu200cخط و خش', '۴ ماه', 'اتوماتیک', '452000000')\n",
      "('لیفان X60 دندهu200cای', '120000', '1392', 'سالم', 'ضربهu200cخورده', 'سالم و پلمپ', 'رنگu200cشدگی در ۳ ناحیه', '۱۲ ماه', 'نقدی')\n",
      "('هیوندای سانتافه ix 45 2400cc', '177000', '2014', 'سالم', 'سالم و پلمپ', 'سالم و بیu200cخط و خش', '۶ ماه', 'اتوماتیک', '1350000000')\n",
      "('رنو تندر 90 E2 بنزینی', '260000', '1391', 'سالم', 'سالم و پلمپ', 'سالم و بیu200cخط و خش', '۵ ماه', 'دندهu200cای', '260000000')\n",
      "('کوییک دندهu200cای ساده', '170', '1400', 'سالم', 'سالم و پلمپ', 'سالم و بیu200cخط و خش', '۱۰ ماه', 'دندهu200cای', '207000000')\n",
      "('پراید صندوقu200cدار CNG', '100000', '1377', 'سالم', 'سالم و پلمپ', 'سالم و بیu200cخط و خش', '۱۱ ماه', 'دندهu200cای', 'غیرقابل نمایش')\n",
      "('جک S5 دندهu200cای', '61000', '1396', 'سالم', 'سالم و پلمپ', 'سالم و بیu200cخط و خش', '۱۰ ماه', 'دندهu200cای', '620000000')\n",
      "('پیکان دوگانه سوز CNG', '347000', '1382', 'سالم', 'ضربهu200cخورده', 'سالم و پلمپ', 'تمامu200cرنگ', '۳ ماه', 'نقدی')\n",
      "('پراید 131 SL', '32000', '1390', 'سالم', 'ضربهu200cخورده', 'سالم و پلمپ', 'سالم و بیu200cخط و خش', '۱۲ ماه', 'نقدی')\n",
      "('کوییک دندهu200cای ساده', '35000', '1398', 'سالم', 'سالم و پلمپ', 'سالم و بیu200cخط و خش', '۵ ماه', 'دندهu200cای', '187000000')\n",
      "('پراید صندوقu200cدار CNG', '210000', '1389', 'سالم', 'سالم و پلمپ', 'سالم و بیu200cخط و خش', '۹ ماه', 'دندهu200cای', 'غیرقابل نمایش')\n",
      "('پراید صندوقu200cدار بنزینی', '400000', '1379', 'سالم', 'ضربهu200cخورده', 'رنگu200cشده', 'دوررنگ', '۲ ماه', 'نقدی')\n",
      "('پراید صندوقu200cدار CNG', '400000', '1384', 'سالم', 'ضربهu200cخورده', 'سالم و پلمپ', 'دوررنگ', '۹ ماه', 'نقدی')\n",
      "('رنو تندر 90 E2 بنزینی', '270000', '1391', 'سالم', 'سالم و پلمپ', 'خط و خش جزیی', '۱۰ ماه', 'دندهu200cای', 'توافقی')\n",
      "('پژو 206 تیپ ۵', '65000', '1396', 'سالم', 'سالم و پلمپ', 'سالم و بیu200cخط و خش', '۳ ماه', 'دندهu200cای', '270000000')\n",
      "('پراید صندوقu200cدار CNG', '50000', '1388', 'سالم', 'ضربهu200cخورده', 'سالم و پلمپ', 'دوررنگ', '۱۱ ماه', 'نقدی')\n",
      "('امu200cویu200cام X33 دندهu200cای', '19523', '1391', 'سالم', 'سالم و پلمپ', 'خط و خش جزیی', '۹ ماه', 'دندهu200cای', '235000000')\n",
      "('پژو 206 تیپ ۲', '100000', '1385', 'سالم', 'سالم و پلمپ', 'خط و خش جزیی', '۱ ماه', 'دندهu200cای', '135000000')\n",
      "('وانت مزدا 2000 تک کابین بنزینی', '145000', '1396', 'سالم', 'سالم و پلمپ', 'رنگu200cشدگی در ۱ ناحیه', '۶ ماه', 'دندهu200cای', '225000000')\n",
      "('کیا اپتیما 2700cc', '197000', '2010', 'سالم', 'سالم و پلمپ', 'سالم و بیu200cخط و خش', '۸ ماه', 'اتوماتیک', '785000000')\n",
      "('ساینا دندهu200cای EX', '35000', '1399', 'سالم', 'سالم و پلمپ', 'سالم و بیu200cخط و خش', '۱۰ ماه', 'دندهu200cای', '202000000')\n",
      "('پراید صندوقu200cدار بنزینی', '333000', '1382', 'سالم', 'ضربهu200cخورده', 'سالم و پلمپ', 'رنگu200cشدگی در ۴ ناحیه', '۷ ماه', 'نقدی')\n",
      "('دنا پلاس توربو', '60000', '1397', 'سالم', 'سالم و پلمپ', 'سالم و بیu200cخط و خش', '۱۰ ماه', 'دندهu200cای', '410000000')\n",
      "('ساینا دندهu200cای EX', '0', '1400', 'سالم', 'سالم و پلمپ', 'سالم و بیu200cخط و خش', '۸ ماه', 'دندهu200cای', '209000000')\n",
      "('پراید 131 دوگانه سوز', '245000', '1391', 'سالم', 'سالم و پلمپ', 'ضربهu200cخورده', 'سالم و بیu200cخط و خش', '۴ ماه', 'نقدی')\n",
      "('پژو پارس سال', '73000', '1397', 'سالم', 'سالم و پلمپ', 'رنگu200cشدگی در ۱ ناحیه', '۱۱ ماه', 'دندهu200cای', 'توافقی')\n",
      "('پژو 206 تیپ ۲', '140000', '1392', 'سالم', 'سالم و پلمپ', 'خط و خش جزیی', '۱۲ ماه', 'دندهu200cای', '185000000')\n",
      "('شاهین G', '7000', '1400', 'سالم', 'سالم و پلمپ', 'سالم و بیu200cخط و خش', '۹ ماه', 'دندهu200cای', '383000000')\n",
      "('پراید صندوقu200cدار بنزینی', '80000', '1382', 'سالم', 'سالم و پلمپ', 'خط و خش جزیی', '۱ ماه', 'دندهu200cای', 'غیرقابل نمایش')\n",
      "('میتسوبیشی گالانت', '500000', '1992', 'سالم', 'سالم و پلمپ', 'رنگu200cشدگی در ۲ ناحیه', '۱۱ ماه', 'دندهu200cای', '145000000')\n",
      "('لکسوس CT 200H F', '8300', '2015', 'سالم', 'سالم و پلمپ', 'سالم و بیu200cخط و خش', '۱۲ ماه', 'اتوماتیک', 'توافقی')\n",
      "('پژو پارس سال', '9000', '1400', 'سالم', 'سالم و پلمپ', 'سالم و بیu200cخط و خش', '۳ ماه', 'دندهu200cای', '300000000')\n",
      "('کوییک دندهu200cای ساده', '0', '1401', 'سالم', 'سالم و پلمپ', 'سالم و بیu200cخط و خش', '۱۲ ماه', 'دندهu200cای', '225000000')\n",
      "('پژو 206 تیپ ۲', '90000', '1395', 'سالم', 'سالم و پلمپ', 'سالم و بیu200cخط و خش', '۳ ماه', 'دندهu200cای', 'غیرقابل نمایش')\n",
      "('هیوندای سانتافه ix 45 3500cc', '215000', '2010', 'سالم', 'سالم و پلمپ', 'رنگu200cشدگی در ۱ ناحیه', '۶ ماه', 'اتوماتیک', 'غیرقابل نمایش')\n",
      "('تیبا صندوقu200cدار SX', '18000', '1400', 'سالم', 'سالم و پلمپ', 'سالم و بیu200cخط و خش', '۱۱ ماه', 'دندهu200cای', 'برای معاوضه')\n",
      "('پراید 132 ساده', '370000', '1388', 'سالم', 'سالم و پلمپ', 'خط و خش جزیی', '۱۲ ماه', 'دندهu200cای', 'توافقی')\n",
      "('رنو تندر 90 E1 بنزینی', '145000', '1389', 'سالم', 'سالم و پلمپ', 'خط و خش جزیی', '۵ ماه', 'دندهu200cای', '200000000')\n",
      "('رنو پارس تندر دندهu200cای', '120000', '1393', 'سالم', 'سالم و پلمپ', 'رنگu200cشدگی در ۴ ناحیه', '۱۲ ماه', 'دندهu200cای', '255000000')\n",
      "('تیبا هاچبک EX', '22000', '1399', 'سالم', 'سالم و پلمپ', 'رنگu200cشدگی در ۲ ناحیه', '۵ ماه', 'دندهu200cای', '170000000')\n",
      "('دوو ماتیز', '250000', '1381', 'سالم', 'سالم و پلمپ', 'رنگu200cشدگی در ۳ ناحیه', '۶ ماه', 'دندهu200cای', '45000000')\n",
      "('پژو 207i پانوراما دندهu200cای', '0', '1401', 'سالم', 'سالم و پلمپ', 'سالم و بیu200cخط و خش', '۱۲ ماه', 'دندهu200cای', '405000000')\n",
      "('سمند LX EF7 گازسوز', '217000', '1393', 'سالم', 'سالم و پلمپ', 'خط و خش جزیی', '۳ ماه', 'دندهu200cای', '221000000')\n",
      "('لیفان X60 دندهu200cای', '120000', '1392', 'سالم', 'ضربهu200cخورده', 'سالم و پلمپ', 'رنگu200cشدگی در ۳ ناحیه', '۱۲ ماه', 'نقدی')\n",
      "('هیوندای سانتافه ix 45 2400cc', '177000', '2014', 'سالم', 'سالم و پلمپ', 'سالم و بیu200cخط و خش', '۶ ماه', 'اتوماتیک', '1350000000')\n",
      "('رنو تندر 90 E2 بنزینی', '260000', '1391', 'سالم', 'سالم و پلمپ', 'سالم و بیu200cخط و خش', '۵ ماه', 'دندهu200cای', '260000000')\n",
      "('کوییک دندهu200cای ساده', '170', '1400', 'سالم', 'سالم و پلمپ', 'سالم و بیu200cخط و خش', '۱۰ ماه', 'دندهu200cای', '207000000')\n",
      "('پراید صندوقu200cدار CNG', '100000', '1377', 'سالم', 'سالم و پلمپ', 'سالم و بیu200cخط و خش', '۱۱ ماه', 'دندهu200cای', 'غیرقابل نمایش')\n",
      "('جک S5 دندهu200cای', '61000', '1396', 'سالم', 'سالم و پلمپ', 'سالم و بیu200cخط و خش', '۱۰ ماه', 'دندهu200cای', '620000000')\n",
      "('پیکان دوگانه سوز CNG', '347000', '1382', 'سالم', 'ضربهu200cخورده', 'سالم و پلمپ', 'تمامu200cرنگ', '۳ ماه', 'نقدی')\n",
      "('پراید 131 SL', '32000', '1390', 'سالم', 'ضربهu200cخورده', 'سالم و پلمپ', 'سالم و بیu200cخط و خش', '۱۲ ماه', 'نقدی')\n"
     ]
    }
   ],
   "source": [
    "cursor.execute('select * from car')\n",
    "s = cursor.fetchall()\n",
    "for i in s:\n",
    "    print(i)"
   ]
  },
  {
   "cell_type": "code",
   "execution_count": null,
   "id": "347baf2a",
   "metadata": {},
   "outputs": [],
   "source": []
  }
 ],
 "metadata": {
  "kernelspec": {
   "display_name": "Python 3 (ipykernel)",
   "language": "python",
   "name": "python3"
  },
  "language_info": {
   "codemirror_mode": {
    "name": "ipython",
    "version": 3
   },
   "file_extension": ".py",
   "mimetype": "text/x-python",
   "name": "python",
   "nbconvert_exporter": "python",
   "pygments_lexer": "ipython3",
   "version": "3.10.4"
  }
 },
 "nbformat": 4,
 "nbformat_minor": 5
}
